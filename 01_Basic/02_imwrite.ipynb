{
 "cells": [
  {
   "cell_type": "code",
   "execution_count": null,
   "id": "intended-commerce",
   "metadata": {},
   "outputs": [],
   "source": [
    "import cv2 as cv\n",
    "\n",
    "\n",
    "def main():\n",
    "    img0 = cv.imread('images/lena_color_512.tif', 1)\n",
    "    img1 = cv.imread('images/lena_color_512.tif', 0)\n",
    "    img2 = cv.imread('images/lena_color_512.tif', -1)\n",
    "\n",
    "    cv.imshow('img0', img0)\n",
    "    cv.imshow('img1', img1)\n",
    "    cv.imshow('img2', img2)\n",
    "\n",
    "    cv.imwrite('black_n_white.jpg', img1)\n",
    "\n",
    "    cv.waitKey(0)\n",
    "    cv.destroyAllWindows()\n",
    "\n",
    "\n",
    "if __name__ == \"__main__\":\n",
    "    main()"
   ]
  },
  {
   "cell_type": "code",
   "execution_count": null,
   "id": "gothic-picture",
   "metadata": {},
   "outputs": [],
   "source": []
  }
 ],
 "metadata": {
  "kernelspec": {
   "display_name": "Python 3",
   "language": "python",
   "name": "python3"
  },
  "language_info": {
   "codemirror_mode": {
    "name": "ipython",
    "version": 3
   },
   "file_extension": ".py",
   "mimetype": "text/x-python",
   "name": "python",
   "nbconvert_exporter": "python",
   "pygments_lexer": "ipython3",
   "version": "3.9.4"
  }
 },
 "nbformat": 4,
 "nbformat_minor": 5
}
